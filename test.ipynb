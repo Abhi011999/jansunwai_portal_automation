{
 "cells": [
  {
   "cell_type": "code",
   "execution_count": 1,
   "metadata": {},
   "outputs": [],
   "source": [
    "import pandas as pd\n",
    "\n",
    "df = df = pd.read_excel(\"MIS_ASHA.xlsx\", sheet_name=\"May-2022\")"
   ]
  },
  {
   "cell_type": "code",
   "execution_count": 3,
   "metadata": {},
   "outputs": [
    {
     "data": {
      "text/plain": [
       "Index(['S.No', 'Scheme Name',\n",
       "       'No. of beneficiaries through Normative Central & State share(Should be unique cumulative)',\n",
       "       'No. of additional beneficiaries supported by State , if any (Should be unique cumulative)',\n",
       "       'Total No. of Beneficiaries (Should be unique cumulative)',\n",
       "       'No. of beneficiaries record digitized(Should be unique cumulative)',\n",
       "       'No. of Aadhaar authenticated and seeded Beneficiaries (Should be unique cumulative)',\n",
       "       'No. of beneficiaries for whom mobile number is captured',\n",
       "       'Central Share fund transferred',\n",
       "       'Normative - State Share fund transferred',\n",
       "       'Additional State Contributed fund transferred',\n",
       "       'Total Fund Transfered',\n",
       "       'State Share fund transferred to additional beneficiaries supported by State',\n",
       "       'Total No. of transactions For Electronics Modes',\n",
       "       'Electronic Modes (ABP , NEFT, RTGS, AEPS) (in Rs.)'],\n",
       "      dtype='object')"
      ]
     },
     "execution_count": 3,
     "metadata": {},
     "output_type": "execute_result"
    }
   ],
   "source": [
    "df.columns"
   ]
  },
  {
   "cell_type": "code",
   "execution_count": 4,
   "metadata": {},
   "outputs": [
    {
     "data": {
      "text/plain": [
       "(77, 15)"
      ]
     },
     "execution_count": 4,
     "metadata": {},
     "output_type": "execute_result"
    }
   ],
   "source": [
    "df.shape"
   ]
  },
  {
   "cell_type": "code",
   "execution_count": 5,
   "metadata": {},
   "outputs": [
    {
     "data": {
      "text/plain": [
       "0         4\n",
       "1         0\n",
       "2       236\n",
       "3       351\n",
       "4         0\n",
       "      ...  \n",
       "72      180\n",
       "73      119\n",
       "74        0\n",
       "75        0\n",
       "76    31014\n",
       "Name: No. of beneficiaries record digitized(Should be unique cumulative), Length: 77, dtype: int64"
      ]
     },
     "execution_count": 5,
     "metadata": {},
     "output_type": "execute_result"
    }
   ],
   "source": [
    "df[\"No. of beneficiaries record digitized(Should be unique cumulative)\"]"
   ]
  },
  {
   "cell_type": "code",
   "execution_count": 11,
   "metadata": {},
   "outputs": [
    {
     "data": {
      "text/plain": [
       "S.No                                                                                                   2.0\n",
       "Scheme Name                                                                                  ALIGARH -[AL]\n",
       "No. of beneficiaries through Normative Central & State share(Should be unique cumulative)              236\n",
       "No. of additional beneficiaries supported by State , if any (Should be unique cumulative)                0\n",
       "Total No. of Beneficiaries (Should be unique cumulative)                                               236\n",
       "No. of beneficiaries record digitized(Should be unique cumulative)                                     236\n",
       "No. of Aadhaar authenticated and seeded Beneficiaries (Should be unique cumulative)                    216\n",
       "No. of beneficiaries for whom mobile number is captured                                                  0\n",
       "Central Share fund transferred                                                                           0\n",
       "Normative - State Share fund transferred                                                                 0\n",
       "Additional State Contributed fund transferred                                                            0\n",
       "Total Fund Transfered                                                                                    0\n",
       "State Share fund transferred to additional beneficiaries supported by State                              0\n",
       "Total No. of transactions For Electronics Modes                                                          0\n",
       "Electronic Modes (ABP , NEFT, RTGS, AEPS) (in Rs.)                                                       0\n",
       "Name: 2, dtype: object"
      ]
     },
     "execution_count": 11,
     "metadata": {},
     "output_type": "execute_result"
    }
   ],
   "source": [
    "# check for distrcit and then display the row\n",
    "df[df[\"Scheme Name\"] == \"ALIGARH -[AL]\"].squeeze()"
   ]
  },
  {
   "cell_type": "code",
   "execution_count": 18,
   "metadata": {},
   "outputs": [
    {
     "data": {
      "text/plain": [
       "236"
      ]
     },
     "execution_count": 18,
     "metadata": {},
     "output_type": "execute_result"
    }
   ],
   "source": [
    "df[df[\"Scheme Name\"] == \"ALIGARH -[AL]\"].squeeze()[\"No. of beneficiaries record digitized(Should be unique cumulative)\"]\n"
   ]
  },
  {
   "cell_type": "code",
   "execution_count": 19,
   "metadata": {},
   "outputs": [
    {
     "data": {
      "text/plain": [
       "'ALIGARH'"
      ]
     },
     "execution_count": 19,
     "metadata": {},
     "output_type": "execute_result"
    }
   ],
   "source": [
    "# i have district name \"aligarh\" and the data contains it as \"ALIGARH -[AL]\", do something\n",
    "import re\n",
    "cleaned_district = re.sub(r\"\\s*-\\s*\\[.*\\]\", \"\", \"ALIGARH -[AL]\").strip()\n",
    "cleaned_district"
   ]
  },
  {
   "cell_type": "code",
   "execution_count": 30,
   "metadata": {},
   "outputs": [
    {
     "data": {
      "text/plain": [
       "'ALIGARH -[AL]'"
      ]
     },
     "execution_count": 30,
     "metadata": {},
     "output_type": "execute_result"
    }
   ],
   "source": [
    "district = df.loc[1 + 1, \"Scheme Name\"]\n",
    "district"
   ]
  }
 ],
 "metadata": {
  "kernelspec": {
   "display_name": ".venv",
   "language": "python",
   "name": "python3"
  },
  "language_info": {
   "codemirror_mode": {
    "name": "ipython",
    "version": 3
   },
   "file_extension": ".py",
   "mimetype": "text/x-python",
   "name": "python",
   "nbconvert_exporter": "python",
   "pygments_lexer": "ipython3",
   "version": "3.11.3"
  },
  "orig_nbformat": 4
 },
 "nbformat": 4,
 "nbformat_minor": 2
}
